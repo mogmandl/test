{
 "cells": [
  {
   "cell_type": "code",
   "execution_count": 27,
   "metadata": {},
   "outputs": [
    {
     "name": "stdout",
     "output_type": "stream",
     "text": [
      "hello python!\n"
     ]
    }
   ],
   "source": [
    "print(\"hello python!\")"
   ]
  },
  {
   "cell_type": "code",
   "execution_count": 28,
   "metadata": {},
   "outputs": [
    {
     "name": "stdout",
     "output_type": "stream",
     "text": [
      "gogo\n"
     ]
    }
   ],
   "source": [
    "print(\"gogo\")"
   ]
  },
  {
   "cell_type": "code",
   "execution_count": 29,
   "metadata": {},
   "outputs": [
    {
     "name": "stdout",
     "output_type": "stream",
     "text": [
      "no more \n"
     ]
    }
   ],
   "source": [
    "print(\"no more \")"
   ]
  },
  {
   "cell_type": "code",
   "execution_count": 30,
   "metadata": {},
   "outputs": [
    {
     "data": {
      "text/plain": [
       "3.3333333333333335"
      ]
     },
     "execution_count": 30,
     "metadata": {},
     "output_type": "execute_result"
    }
   ],
   "source": [
    "10 / 3"
   ]
  },
  {
   "cell_type": "code",
   "execution_count": 31,
   "metadata": {},
   "outputs": [
    {
     "data": {
      "text/plain": [
       "3"
      ]
     },
     "execution_count": 31,
     "metadata": {},
     "output_type": "execute_result"
    }
   ],
   "source": [
    "10 // 3"
   ]
  },
  {
   "cell_type": "code",
   "execution_count": 32,
   "metadata": {},
   "outputs": [
    {
     "data": {
      "text/plain": [
       "1"
      ]
     },
     "execution_count": 32,
     "metadata": {},
     "output_type": "execute_result"
    }
   ],
   "source": [
    "10 % 3"
   ]
  },
  {
   "cell_type": "code",
   "execution_count": 33,
   "metadata": {},
   "outputs": [
    {
     "name": "stdout",
     "output_type": "stream",
     "text": [
      "he said 'hello'\n"
     ]
    }
   ],
   "source": [
    "print(\"he said 'hello'\")"
   ]
  },
  {
   "cell_type": "code",
   "execution_count": 34,
   "metadata": {},
   "outputs": [
    {
     "name": "stdout",
     "output_type": "stream",
     "text": [
      "he said \"hello\"\n"
     ]
    }
   ],
   "source": [
    "print('he said \"hello\"')"
   ]
  },
  {
   "cell_type": "code",
   "execution_count": 35,
   "metadata": {},
   "outputs": [
    {
     "name": "stdout",
     "output_type": "stream",
     "text": [
      "he said \"hello\"\n"
     ]
    }
   ],
   "source": [
    "print(\"he said \\\"hello\\\"\")"
   ]
  },
  {
   "cell_type": "code",
   "execution_count": 36,
   "metadata": {},
   "outputs": [
    {
     "data": {
      "text/plain": [
       "False"
      ]
     },
     "execution_count": 36,
     "metadata": {},
     "output_type": "execute_result"
    }
   ],
   "source": [
    "0.1 * 3 == 0.3"
   ]
  },
  {
   "cell_type": "code",
   "execution_count": 37,
   "metadata": {},
   "outputs": [
    {
     "data": {
      "text/plain": [
       "Decimal('0.1000000000000000055511151231257827021181583404541015625')"
      ]
     },
     "execution_count": 37,
     "metadata": {},
     "output_type": "execute_result"
    }
   ],
   "source": [
    "from decimal import *\n",
    "Decimal(0.1)"
   ]
  },
  {
   "cell_type": "code",
   "execution_count": 38,
   "metadata": {},
   "outputs": [
    {
     "name": "stdout",
     "output_type": "stream",
     "text": [
      "10 10.5\n"
     ]
    }
   ],
   "source": [
    "a = 10\n",
    "b = 10.5\n",
    "print(a, b)"
   ]
  },
  {
   "cell_type": "code",
   "execution_count": 39,
   "metadata": {},
   "outputs": [
    {
     "name": "stdout",
     "output_type": "stream",
     "text": [
      "Hello DGSW 10 5 DGSW HelloDGSW\n"
     ]
    }
   ],
   "source": [
    "a = \"Hello\"\n",
    "b = \"DGSW\"\n",
    "c = \"10\"\n",
    "d = 10\n",
    "e = b\n",
    "\n",
    "result = a + b\n",
    "\n",
    "d = 5\n",
    "print(a, b, c, d, e, result)"
   ]
  },
  {
   "cell_type": "code",
   "execution_count": 40,
   "metadata": {},
   "outputs": [
    {
     "name": "stdout",
     "output_type": "stream",
     "text": [
      "<class 'int'>\n"
     ]
    }
   ],
   "source": [
    "a = 3\n",
    "print(type(a))"
   ]
  },
  {
   "cell_type": "code",
   "execution_count": 41,
   "metadata": {},
   "outputs": [
    {
     "name": "stdout",
     "output_type": "stream",
     "text": [
      "아버지가방에 들어가십니다.\n",
      "아버지가 방에 들어가십니다.\n"
     ]
    }
   ],
   "source": [
    "print(\"아버지가\" + \"방에 들어가십니다.\")\n",
    "\n",
    "print(\"아버지가\", \"방에 들어가십니다.\")"
   ]
  },
  {
   "cell_type": "code",
   "execution_count": 42,
   "metadata": {},
   "outputs": [
    {
     "name": "stdout",
     "output_type": "stream",
     "text": [
      "1-2화이팅잘한다\n"
     ]
    }
   ],
   "source": [
    "print(\"1-2\" \"화이팅\" \"잘한다\")"
   ]
  },
  {
   "cell_type": "code",
   "execution_count": 43,
   "metadata": {},
   "outputs": [
    {
     "name": "stdout",
     "output_type": "stream",
     "text": [
      "안녕 안녕 반가워\n"
     ]
    }
   ],
   "source": [
    "a = \"안녕\"\n",
    "print(\"안녕\", a, \"반가워\")"
   ]
  },
  {
   "cell_type": "code",
   "execution_count": 44,
   "metadata": {},
   "outputs": [
    {
     "name": "stdout",
     "output_type": "stream",
     "text": [
      "얘들아안녕반가워\n"
     ]
    }
   ],
   "source": [
    "print(\"얘들아\"\"안녕\"\"반가워\")"
   ]
  },
  {
   "cell_type": "code",
   "execution_count": 45,
   "metadata": {},
   "outputs": [
    {
     "name": "stdout",
     "output_type": "stream",
     "text": [
      "얘들아!!!안녕!!!반갑다\n"
     ]
    }
   ],
   "source": [
    "print(\"얘들아\", \"안녕\", \"반갑다\", sep = \"!!!\")"
   ]
  },
  {
   "cell_type": "code",
   "execution_count": 46,
   "metadata": {},
   "outputs": [
    {
     "name": "stdout",
     "output_type": "stream",
     "text": [
      "개미는뚠뚠오늘도뚠뚠열심히 일을 하네\n"
     ]
    }
   ],
   "source": [
    "print(\"개미는\", \"오늘도\", \"열심히 일을 하네\", sep = \"뚠뚠\")"
   ]
  },
  {
   "cell_type": "code",
   "execution_count": 47,
   "metadata": {},
   "outputs": [
    {
     "name": "stdout",
     "output_type": "stream",
     "text": [
      "대소고가 짱이다\n"
     ]
    }
   ],
   "source": [
    "print(\"대소고가\", end = \" \")\n",
    "print(\"짱이다\")"
   ]
  },
  {
   "cell_type": "code",
   "execution_count": 48,
   "metadata": {},
   "outputs": [
    {
     "name": "stdout",
     "output_type": "stream",
     "text": [
      "HelloHelloHelloHelloHello\n"
     ]
    }
   ],
   "source": [
    "str = \"Hello\"\n",
    "num = 5\n",
    "result = str * num\n",
    "print(result)"
   ]
  },
  {
   "cell_type": "code",
   "execution_count": 49,
   "metadata": {},
   "outputs": [
    {
     "name": "stdout",
     "output_type": "stream",
     "text": [
      " \"안녕하세요\t저는 홍길동입니다.\" \n"
     ]
    }
   ],
   "source": [
    "print(\" \\\"안녕하세요\\t저는 홍길동입니다.\\\" \")"
   ]
  },
  {
   "cell_type": "code",
   "execution_count": 50,
   "metadata": {},
   "outputs": [
    {
     "name": "stdout",
     "output_type": "stream",
     "text": [
      "나무나무나무\n"
     ]
    }
   ],
   "source": [
    "print(\"나무\"*3)"
   ]
  },
  {
   "cell_type": "code",
   "execution_count": 51,
   "metadata": {},
   "outputs": [
    {
     "name": "stdout",
     "output_type": "stream",
     "text": [
      "5+55+5\n",
      "10\n"
     ]
    }
   ],
   "source": [
    "print(\"5+5\"*2)\n",
    "print(5+5)"
   ]
  },
  {
   "cell_type": "code",
   "execution_count": 52,
   "metadata": {},
   "outputs": [
    {
     "name": "stdout",
     "output_type": "stream",
     "text": [
      "2+5-1\n"
     ]
    }
   ],
   "source": [
    "print(\"2+5-1\")"
   ]
  },
  {
   "cell_type": "code",
   "execution_count": 53,
   "metadata": {},
   "outputs": [
    {
     "name": "stdout",
     "output_type": "stream",
     "text": [
      "1+1\n",
      "222\n"
     ]
    }
   ],
   "source": [
    "print(\"1+1\")\n",
    "print(111*2)"
   ]
  },
  {
   "cell_type": "code",
   "execution_count": 54,
   "metadata": {},
   "outputs": [
    {
     "name": "stdout",
     "output_type": "stream",
     "text": [
      "아버지가방에 들어가십니다\n"
     ]
    }
   ],
   "source": [
    "print(\"아버지가\"+\"방에 들어가십니다\")"
   ]
  },
  {
   "cell_type": "code",
   "execution_count": 55,
   "metadata": {},
   "outputs": [
    {
     "name": "stdout",
     "output_type": "stream",
     "text": [
      "30\n",
      "makitmakitmakit\n"
     ]
    }
   ],
   "source": [
    "a=10; b='makit'\n",
    "print(a*3); print(b*3)"
   ]
  },
  {
   "cell_type": "code",
   "execution_count": 56,
   "metadata": {},
   "outputs": [
    {
     "ename": "TypeError",
     "evalue": "can only concatenate str (not \"int\") to str",
     "output_type": "error",
     "traceback": [
      "\u001b[0;31m---------------------------------------------------------------------------\u001b[0m",
      "\u001b[0;31mTypeError\u001b[0m                                 Traceback (most recent call last)",
      "Cell \u001b[0;32mIn[56], line 1\u001b[0m\n\u001b[0;32m----> 1\u001b[0m \u001b[38;5;28mprint\u001b[39m(\u001b[38;5;124;43m'\u001b[39;49m\u001b[38;5;124;43m나는\u001b[39;49m\u001b[38;5;124;43m'\u001b[39;49m\u001b[43m \u001b[49m\u001b[38;5;241;43m+\u001b[39;49m\u001b[43m \u001b[49m\u001b[38;5;241;43m17\u001b[39;49m \u001b[38;5;241m+\u001b[39m \u001b[38;5;124m'\u001b[39m\u001b[38;5;124m살이다.\u001b[39m\u001b[38;5;124m'\u001b[39m)\n",
      "\u001b[0;31mTypeError\u001b[0m: can only concatenate str (not \"int\") to str"
     ]
    }
   ],
   "source": [
    "print('나는' + 17 + '살이다.')"
   ]
  },
  {
   "cell_type": "code",
   "execution_count": null,
   "metadata": {},
   "outputs": [
    {
     "name": "stdout",
     "output_type": "stream",
     "text": [
      "5 -2\n"
     ]
    }
   ],
   "source": [
    "a, b = 1, 2\n",
    "a += b\n",
    "a = a + b\n",
    "b = a - b\n",
    "b -= a\n",
    "print(a, b)"
   ]
  },
  {
   "cell_type": "code",
   "execution_count": null,
   "metadata": {},
   "outputs": [
    {
     "name": "stdout",
     "output_type": "stream",
     "text": [
      "9\n",
      "333\n"
     ]
    }
   ],
   "source": [
    "a , b = 3, '3'\n",
    "print(a * int(b))\n",
    "print(str(a) * int(b))"
   ]
  },
  {
   "cell_type": "code",
   "execution_count": null,
   "metadata": {},
   "outputs": [
    {
     "ename": "TypeError",
     "evalue": "can only concatenate str (not \"int\") to str",
     "output_type": "error",
     "traceback": [
      "\u001b[0;31m---------------------------------------------------------------------------\u001b[0m",
      "\u001b[0;31mTypeError\u001b[0m                                 Traceback (most recent call last)",
      "Cell \u001b[0;32mIn[10], line 2\u001b[0m\n\u001b[1;32m      1\u001b[0m 개수 \u001b[38;5;241m=\u001b[39m \u001b[38;5;241m20\u001b[39m \n\u001b[0;32m----> 2\u001b[0m \u001b[38;5;28mprint\u001b[39m(\u001b[38;5;124;43m'\u001b[39;49m\u001b[38;5;124;43m사과\u001b[39;49m\u001b[38;5;124;43m'\u001b[39;49m\u001b[43m \u001b[49m\u001b[38;5;241;43m+\u001b[39;49m\u001b[43m \u001b[49m\u001b[43m개수\u001b[49m \u001b[38;5;241m+\u001b[39m \u001b[38;5;124m'\u001b[39m\u001b[38;5;124m개\u001b[39m\u001b[38;5;124m'\u001b[39m)\n",
      "\u001b[0;31mTypeError\u001b[0m: can only concatenate str (not \"int\") to str"
     ]
    }
   ],
   "source": [
    "개수 = 20 \n",
    "print('사과' + 개수 + '개')"
   ]
  },
  {
   "cell_type": "code",
   "execution_count": null,
   "metadata": {},
   "outputs": [
    {
     "name": "stdout",
     "output_type": "stream",
     "text": [
      "bongo cat\n"
     ]
    }
   ],
   "source": [
    "a = input(\"값을 입력하시오 : \")\n",
    "print(a)"
   ]
  },
  {
   "cell_type": "code",
   "execution_count": null,
   "metadata": {},
   "outputs": [
    {
     "name": "stdout",
     "output_type": "stream",
     "text": [
      "두 수를 더한 결과는 : bongocat 입니다.\n"
     ]
    }
   ],
   "source": [
    "a = input(\"첫 번째 숫지를 입력하세요 : \")\n",
    "b = input(\"두 번째 숫자를 입력하세요 : \")\n",
    "print(\"두 수를 더한 결과는 :\", a + b, \"입니다.\")"
   ]
  },
  {
   "cell_type": "code",
   "execution_count": null,
   "metadata": {},
   "outputs": [
    {
     "name": "stdout",
     "output_type": "stream",
     "text": [
      "두 수를 더한 결과는 : 32.45 입니다.\n",
      "<class 'float'>\n"
     ]
    }
   ],
   "source": [
    "a = int(input(\"정수를 입력하세요 : \"))\n",
    "b = float(input(\"실수를 입력하세요 : \"))\n",
    "print(\"두 수를 더한 결과는 :\", a + b, \"입니다.\")\n",
    "print(type(a + b))"
   ]
  },
  {
   "cell_type": "code",
   "execution_count": null,
   "metadata": {},
   "outputs": [
    {
     "ename": "ValueError",
     "evalue": "not enough values to unpack (expected 2, got 1)",
     "output_type": "error",
     "traceback": [
      "\u001b[0;31m---------------------------------------------------------------------------\u001b[0m",
      "\u001b[0;31mValueError\u001b[0m                                Traceback (most recent call last)",
      "Cell \u001b[0;32mIn[15], line 1\u001b[0m\n\u001b[0;32m----> 1\u001b[0m a, b \u001b[38;5;241m=\u001b[39m \u001b[38;5;28minput\u001b[39m(\u001b[38;5;124m\"\u001b[39m\u001b[38;5;124m\"\u001b[39m)\n\u001b[1;32m      2\u001b[0m \u001b[38;5;28mprint\u001b[39m(a, b)\n",
      "\u001b[0;31mValueError\u001b[0m: not enough values to unpack (expected 2, got 1)"
     ]
    }
   ],
   "source": [
    "a, b = input(\"\")\n",
    "print(a, b)"
   ]
  },
  {
   "cell_type": "code",
   "execution_count": null,
   "metadata": {},
   "outputs": [
    {
     "ename": "TypeError",
     "evalue": "int() argument must be a string, a bytes-like object or a number, not 'list'",
     "output_type": "error",
     "traceback": [
      "\u001b[0;31m---------------------------------------------------------------------------\u001b[0m",
      "\u001b[0;31mTypeError\u001b[0m                                 Traceback (most recent call last)",
      "Cell \u001b[0;32mIn[17], line 1\u001b[0m\n\u001b[0;32m----> 1\u001b[0m a, b \u001b[38;5;241m=\u001b[39m \u001b[38;5;28;43mint\u001b[39;49m\u001b[43m(\u001b[49m\u001b[38;5;28;43minput\u001b[39;49m\u001b[43m(\u001b[49m\u001b[38;5;124;43m\"\u001b[39;49m\u001b[38;5;124;43m두 수 입력:\u001b[39;49m\u001b[38;5;124;43m\"\u001b[39;49m\u001b[43m)\u001b[49m\u001b[38;5;241;43m.\u001b[39;49m\u001b[43msplit\u001b[49m\u001b[43m(\u001b[49m\u001b[43m)\u001b[49m\u001b[43m)\u001b[49m\n\u001b[1;32m      2\u001b[0m \u001b[38;5;28mprint\u001b[39m(a, b)\n\u001b[1;32m      3\u001b[0m \u001b[38;5;28mprint\u001b[39m(a\u001b[38;5;241m+\u001b[39mb)\n",
      "\u001b[0;31mTypeError\u001b[0m: int() argument must be a string, a bytes-like object or a number, not 'list'"
     ]
    }
   ],
   "source": [
    "a, b = int(input(\"두 수 입력:\").split())\n",
    "print(a, b)\n",
    "print(a+b)"
   ]
  },
  {
   "cell_type": "code",
   "execution_count": null,
   "metadata": {},
   "outputs": [
    {
     "name": "stdout",
     "output_type": "stream",
     "text": [
      "daegu의 3일 화요일 기온온 13도 입니다.\n",
      "daegu의 3일 화요일 기온온 13도 입니다.\n"
     ]
    }
   ],
   "source": [
    "city = 'daegu'\n",
    "today = 3\n",
    "day = '화요일'\n",
    "temperature = 13\n",
    "announcement = \"%s의 %d일 %s 기온온 %d도 입니다.\" %(city, today, day, temperature)\n",
    "\n",
    "print(\"%s의 %d일 %s 기온온 %d도 입니다.\" %(city, today, day, temperature))\n",
    "print(announcement)"
   ]
  },
  {
   "cell_type": "code",
   "execution_count": null,
   "metadata": {},
   "outputs": [
    {
     "name": "stdout",
     "output_type": "stream",
     "text": [
      "        10 0000000010\n",
      "     대소고        6    프로그래밍\n",
      "대소고      6        프로그래밍   \n"
     ]
    }
   ],
   "source": [
    "print(\"%10d %010d\" %(10,10))\n",
    "\n",
    "print(\"%8s %8d %8s\" %(\"대소고\", 6, \"프로그래밍\"))\n",
    "print(\"%-8s %-8d %-8s\" %(\"대소고\", 6, \"프로그래밍\"))"
   ]
  },
  {
   "cell_type": "code",
   "execution_count": null,
   "metadata": {},
   "outputs": [
    {
     "name": "stdout",
     "output_type": "stream",
     "text": [
      "103\n"
     ]
    }
   ],
   "source": [
    "a = ord(input())\n",
    "print(a)"
   ]
  },
  {
   "cell_type": "code",
   "execution_count": null,
   "metadata": {},
   "outputs": [
    {
     "name": "stdout",
     "output_type": "stream",
     "text": [
      "저의 이름은 백선웅입니다. 그리고 나이는 15살이고 키는 165.99cm입니다.\n",
      "백선웅의 키 : 165.99, 백선웅웅의 키 : 165.99\n"
     ]
    }
   ],
   "source": [
    "name1 = '백선웅'\n",
    "name2 = '백선웅웅'\n",
    "age = 15\n",
    "height = 165.99\n",
    "print(\"저의 이름은 {0}입니다. 그리고 나이는 {1}살이고 키는 {2}cm입니다.\".format(name1, age, height))\n",
    "\n",
    "print('{0}의 키 : {2}, {1}의 키 : {2}'.format(name1, name2, height))"
   ]
  },
  {
   "cell_type": "code",
   "execution_count": null,
   "metadata": {},
   "outputs": [
    {
     "name": "stdout",
     "output_type": "stream",
     "text": [
      "\n",
      "\n",
      "\n",
      "\n",
      "\n",
      "\n",
      "\n",
      "\n",
      "\n",
      "5\n"
     ]
    }
   ],
   "source": [
    "print('{:\\n>10}'.format(5))"
   ]
  },
  {
   "cell_type": "code",
   "execution_count": 57,
   "metadata": {},
   "outputs": [
    {
     "name": "stdout",
     "output_type": "stream",
     "text": [
      "        30\n",
      "000DGSW000\n",
      "!!!!!!!181.24\n"
     ]
    }
   ],
   "source": [
    "print(\"{length: >10d}\".format(length = 30))\n",
    "#공백문자:' '(공백), 정렬: 오른쪽 정렬, 폭: 10\n",
    "#순서대로 입력해야하고 생략 가능\n",
    "print(\"{0:0^10}\".format('DGSW'))\n",
    "#공백문자: 0, 정렬: 가운데 정렬, 폭: 10\n",
    "#순서대로 입력해야하고 생략 가능\n",
    "print(\"{height:!>13.2f}\".format(height = 181.24363))\n",
    "#공백문자: !, 정렬: 오른쪽 정렬, 폭: 13, 소수점 2자리 표시\n",
    "#순서대로 입력해야하고 생략 가능"
   ]
  },
  {
   "cell_type": "code",
   "execution_count": 86,
   "metadata": {},
   "outputs": [
    {
     "name": "stdout",
     "output_type": "stream",
     "text": [
      "{DGSW}\n"
     ]
    }
   ],
   "source": [
    "print('{{{}}}'.format('DGSW'))"
   ]
  },
  {
   "cell_type": "code",
   "execution_count": 87,
   "metadata": {},
   "outputs": [
    {
     "name": "stdout",
     "output_type": "stream",
     "text": [
      "Hello, DGSW 1학년 화이팅\n"
     ]
    }
   ],
   "source": [
    "print('Hello, {} {} {}'.format('DGSW', '1학년', '화이팅'))"
   ]
  },
  {
   "cell_type": "code",
   "execution_count": 88,
   "metadata": {},
   "outputs": [
    {
     "name": "stdout",
     "output_type": "stream",
     "text": [
      "가로1, 높이3인 정사각형의 넓이는            1.500000 입니다.\n"
     ]
    }
   ],
   "source": [
    "a = 1\n",
    "b = 3\n",
    "c = \"정사각형\"\n",
    "print(f\"가로{a}, 높이{b}인 {c}의 넓이는{a * b / 2 : 20.6f} 입니다.\")"
   ]
  },
  {
   "cell_type": "code",
   "execution_count": 92,
   "metadata": {},
   "outputs": [
    {
     "ename": "SyntaxError",
     "evalue": "f-string: expecting '}' (37691663.py, line 2)",
     "output_type": "error",
     "traceback": [
      "\u001b[0;36m  Cell \u001b[0;32mIn[92], line 2\u001b[0;36m\u001b[0m\n\u001b[0;31m    print(f\"{\"Hi\":=^12}\")\u001b[0m\n\u001b[0m              ^\u001b[0m\n\u001b[0;31mSyntaxError\u001b[0m\u001b[0;31m:\u001b[0m f-string: expecting '}'\n"
     ]
    }
   ],
   "source": [
    "print(\"{0:=^12}\".format(\"hi\"))\n",
    "print(f\"{\"Hi\":=^12}\")"
   ]
  },
  {
   "cell_type": "code",
   "execution_count": 95,
   "metadata": {},
   "outputs": [
    {
     "name": "stdout",
     "output_type": "stream",
     "text": [
      "0\n"
     ]
    }
   ],
   "source": [
    "\n",
    "a = input()\n",
    "a = int()\n",
    "print(a)"
   ]
  },
  {
   "cell_type": "code",
   "execution_count": 96,
   "metadata": {},
   "outputs": [
    {
     "name": "stdout",
     "output_type": "stream",
     "text": [
      "거짓\n",
      "참\n"
     ]
    }
   ],
   "source": [
    "a = \"Hello DGSW\"\n",
    "if (a == True) :\n",
    "    print('참')\n",
    "else :\n",
    "    print('거짓')\n",
    "\n",
    "b = True\n",
    "if (b == True) :\n",
    "    print(\"참\")\n",
    "else :\n",
    "    print(\"거짓\")"
   ]
  },
  {
   "cell_type": "code",
   "execution_count": 97,
   "metadata": {},
   "outputs": [
    {
     "name": "stdout",
     "output_type": "stream",
     "text": [
      "1\n",
      "화이팅\n",
      "['DGSW', 'daegu']\n",
      "DGSW\n"
     ]
    }
   ],
   "source": [
    "a = []\n",
    "b = [1, 2, 3]\n",
    "c = ['DGSW', '1학년', '화이팅']\n",
    "d = [1, 2, 'DGSW', 'daegu']\n",
    "e = [1, 2, ['DGSW', 'daegu']]\n",
    "\n",
    "print(b[0])\n",
    "print(c[-1])\n",
    "print(e[2])\n",
    "\n",
    "print(e[-1][0])"
   ]
  },
  {
   "cell_type": "code",
   "execution_count": 100,
   "metadata": {},
   "outputs": [
    {
     "name": "stdout",
     "output_type": "stream",
     "text": [
      "[0, 2, 4, 6, 8, 10]\n"
     ]
    }
   ],
   "source": [
    "a = list(range(0, 12, 2))\n",
    "print(a)"
   ]
  },
  {
   "cell_type": "code",
   "execution_count": 1,
   "metadata": {},
   "outputs": [
    {
     "name": "stdout",
     "output_type": "stream",
     "text": [
      "1 b\n",
      "(1, 2, 'a', 'b', 3, 4)\n"
     ]
    },
    {
     "ename": "TypeError",
     "evalue": "'tuple' object does not support item assignment",
     "output_type": "error",
     "traceback": [
      "\u001b[0;31m---------------------------------------------------------------------------\u001b[0m",
      "\u001b[0;31mTypeError\u001b[0m                                 Traceback (most recent call last)",
      "Cell \u001b[0;32mIn[1], line 8\u001b[0m\n\u001b[1;32m      5\u001b[0m t3 \u001b[38;5;241m=\u001b[39m t1 \u001b[38;5;241m+\u001b[39m t2\n\u001b[1;32m      6\u001b[0m \u001b[38;5;28mprint\u001b[39m(t3)\n\u001b[0;32m----> 8\u001b[0m \u001b[43mt1\u001b[49m\u001b[43m[\u001b[49m\u001b[38;5;241;43m0\u001b[39;49m\u001b[43m]\u001b[49m \u001b[38;5;241m=\u001b[39m \u001b[38;5;124m'\u001b[39m\u001b[38;5;124mc\u001b[39m\u001b[38;5;124m'\u001b[39m\n\u001b[1;32m     10\u001b[0m \u001b[38;5;28;01mdel\u001b[39;00m t1[\u001b[38;5;241m0\u001b[39m]\n",
      "\u001b[0;31mTypeError\u001b[0m: 'tuple' object does not support item assignment"
     ]
    }
   ],
   "source": [
    "t1 = (1, 2, 'a', 'b')\n",
    "print(t1[0], t1[3])\n",
    "\n",
    "t2 = (3, 4)\n",
    "t3 = t1 + t2\n",
    "print(t3)\n",
    "\n",
    "t1[0] = 'c'\n",
    "\n",
    "del t1[0]"
   ]
  },
  {
   "cell_type": "code",
   "execution_count": 2,
   "metadata": {},
   "outputs": [
    {
     "name": "stdout",
     "output_type": "stream",
     "text": [
      "result = a : 2\n",
      "result += a : 4\n",
      "result -= a : 2\n",
      "result *= a : 4\n",
      "result /= a : 2.0\n",
      "result %= a : 0.0\n"
     ]
    }
   ],
   "source": [
    "a = 2\n",
    "print('result = a :', a)\n",
    "a += 2\n",
    "print('result += a :', a)\n",
    "a -= 2\n",
    "print('result -= a :', a)\n",
    "a *= 2\n",
    "print('result *= a :', a)\n",
    "a /= 2\n",
    "print('result /= a :', a)\n",
    "a %= 2\n",
    "print('result %= a :', a)"
   ]
  },
  {
   "cell_type": "code",
   "execution_count": 1,
   "metadata": {},
   "outputs": [
    {
     "name": "stdout",
     "output_type": "stream",
     "text": [
      "False\n",
      "False\n",
      "1: 0\n",
      "2: 0\n",
      "3: 2\n",
      "4: 1\n",
      "5: 0\n",
      "6: []\n"
     ]
    }
   ],
   "source": [
    "# 첫 번째 값이 거짓이므로 두 번째 값은 확인하지 않고 거짓으로 결정\n",
    "print(False and True)     # False\n",
    "print(False and False)    # False\n",
    "\n",
    "\n",
    "# 첫 번째 값이 '참'이면 결과는 두 번째 피연자에 의해 결정되므로 두 번째 연산자의 값을 반환\n",
    "print(\"1:\", 1 and 0)\n",
    "print(\"2:\", 0 and 1)\n",
    "print(\"3:\", 1 and 2)\n",
    "print(\"4:\", 2 and 1)\n",
    "print(\"5:\", 0 and [])\n",
    "print(\"6:\", [] and 0)"
   ]
  },
  {
   "cell_type": "code",
   "execution_count": 2,
   "metadata": {},
   "outputs": [
    {
     "name": "stdout",
     "output_type": "stream",
     "text": [
      "False\n",
      "False\n",
      "1: 0\n",
      "2: 0\n",
      "3: 2\n",
      "4: 1\n",
      "5: 0\n",
      "6: []\n"
     ]
    }
   ],
   "source": [
    "# 첫 번째 값이 거짓이므로 두 번째 값은 확인하지 않고 거짓으로 결정\n",
    "print(False and True)     # False\n",
    "print(False and False)    # False\n",
    "\n",
    "\n",
    "# 첫 번째 값이 '참'이면 결과는 두 번째 피연자에 의해 결정되므로 두 번째 연산자의 값을 반환\n",
    "print(\"1:\", 1 and 0)\n",
    "print(\"2:\", 0 and 1)\n",
    "print(\"3:\", 1 and 2)\n",
    "print(\"4:\", 2 and 1)\n",
    "print(\"5:\", 0 and [])\n",
    "print(\"6:\", [] and 0)"
   ]
  },
  {
   "cell_type": "code",
   "execution_count": 3,
   "metadata": {},
   "outputs": [
    {
     "name": "stdout",
     "output_type": "stream",
     "text": [
      "False\n",
      "False\n",
      "1: 0\n",
      "2: 0\n",
      "3: 2\n",
      "4: 1\n",
      "5: 0\n",
      "6: []\n"
     ]
    }
   ],
   "source": [
    "# 첫 번째 값이 거짓이므로 두 번째 값은 확인하지 않고 거짓으로 결정\n",
    "print(False and True)     # False\n",
    "print(False and False)    # False\n",
    "\n",
    "\n",
    "# 첫 번째 값이 '참'이면 결과는 두 번째 피연자에 의해 결정되므로 두 번째 연산자의 값을 반환\n",
    "print(\"1:\", 1 and 0)\n",
    "print(\"2:\", 0 and 1)\n",
    "print(\"3:\", 1 and 2)\n",
    "print(\"4:\", 2 and 1)\n",
    "print(\"5:\", 0 and [])\n",
    "print(\"6:\", [] and 0)"
   ]
  },
  {
   "cell_type": "code",
   "execution_count": 4,
   "metadata": {},
   "outputs": [
    {
     "name": "stdout",
     "output_type": "stream",
     "text": [
      "100 == 100 : True\n",
      "100 == 200 : False\n",
      "100 != 100 : False\n",
      "100 != 200 : True\n",
      "0 < 9 : True\n",
      "0 > 9 : False\n",
      "0 >= 9 : False\n",
      "0 <= 9 : True\n"
     ]
    }
   ],
   "source": [
    "print(\"100 == 100 :\", 100 == 100)\n",
    "print(\"100 == 200 :\", 100 == 200)\n",
    "print(\"100 != 100 :\", 100 != 100)\n",
    "print(\"100 != 200 :\", 100 != 200)\n",
    "print(\"0 < 9 :\", 0 < 9)\n",
    "print(\"0 > 9 :\", 0 > 9)\n",
    "print(\"0 >= 9 :\", 0 >= 9)\n",
    "print(\"0 <= 9 :\", 0 <= 9)"
   ]
  },
  {
   "cell_type": "code",
   "execution_count": 5,
   "metadata": {},
   "outputs": [
    {
     "name": "stdout",
     "output_type": "stream",
     "text": [
      "True\n",
      "True\n",
      "False\n"
     ]
    }
   ],
   "source": [
    "# 논리 연산자와 비교 연산자를 함께 사용하기\n",
    "print(10 == 10 and 10 != 5)\n",
    "print(10 > 5 or 10 < 3)\n",
    "print(not 10 > 5)"
   ]
  },
  {
   "cell_type": "code",
   "execution_count": 6,
   "metadata": {},
   "outputs": [
    {
     "name": "stdout",
     "output_type": "stream",
     "text": [
      "python\n"
     ]
    }
   ],
   "source": [
    "fuc = ['a', 'b', 'c', [5, 52, 't', 'k', [3, 4, [2, 1, 0, ['ab', 'cd', 'eeeeee', ['easy', 'fffff', ['life', 'is', ['short', 'you', ['need',['python', 'qython']]]]]]]]]]\n",
    "print(fuc[3][4][2][3][3][2][2][2][1][0])"
   ]
  },
  {
   "cell_type": "code",
   "execution_count": 13,
   "metadata": {},
   "outputs": [
    {
     "name": "stdout",
     "output_type": "stream",
     "text": [
      "[7, 35000] (7, 35000) 35000\n"
     ]
    }
   ],
   "source": [
    "howMany = int(input())\n",
    "howManyISpent = howMany * 5000\n",
    "Li = [howMany, howManyISpent]\n",
    "Tu = (howMany, howManyISpent)\n",
    "Di = {howMany : howManyISpent}\n",
    "print(Li, Tu, Di[howMany])"
   ]
  },
  {
   "cell_type": "code",
   "execution_count": 14,
   "metadata": {},
   "outputs": [
    {
     "name": "stdout",
     "output_type": "stream",
     "text": [
      "293 97 100\n"
     ]
    }
   ],
   "source": [
    "#문제 1\n",
    "a, b, c = map(int, input().split())\n",
    "print(a + b + c, (a + b + c) // 3, max(a, b, c))"
   ]
  },
  {
   "cell_type": "code",
   "execution_count": 17,
   "metadata": {},
   "outputs": [
    {
     "name": "stdout",
     "output_type": "stream",
     "text": [
      "g\n"
     ]
    }
   ],
   "source": [
    "#문제 2\n",
    "a, b = input().split()\n",
    "print(a[int(b)*-1])"
   ]
  },
  {
   "cell_type": "code",
   "execution_count": null,
   "metadata": {},
   "outputs": [],
   "source": [
    "a, b = map(int, input().sp)"
   ]
  }
 ],
 "metadata": {
  "kernelspec": {
   "display_name": "Python 3",
   "language": "python",
   "name": "python3"
  },
  "language_info": {
   "codemirror_mode": {
    "name": "ipython",
    "version": 3
   },
   "file_extension": ".py",
   "mimetype": "text/x-python",
   "name": "python",
   "nbconvert_exporter": "python",
   "pygments_lexer": "ipython3",
   "version": "3.9.6"
  }
 },
 "nbformat": 4,
 "nbformat_minor": 2
}
